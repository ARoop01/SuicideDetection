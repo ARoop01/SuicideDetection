{
 "cells": [
  {
   "cell_type": "code",
   "execution_count": 2,
   "metadata": {
    "execution": {
     "iopub.execute_input": "2025-03-14T19:04:18.786330Z",
     "iopub.status.busy": "2025-03-14T19:04:18.786007Z",
     "iopub.status.idle": "2025-03-14T19:04:33.368225Z",
     "shell.execute_reply": "2025-03-14T19:04:33.367518Z",
     "shell.execute_reply.started": "2025-03-14T19:04:18.786298Z"
    },
    "id": "HqzGEMvPEk4F",
    "tags": [],
    "trusted": true
   },
   "outputs": [],
   "source": [
    "# Library to dataset\n",
    "import pandas as pd\n",
    "import numpy as np\n",
    "import matplotlib.pyplot as plt\n",
    "import os\n",
    "os.environ['TF_CPP_MIN_LOG_LEVEL'] = '3'\n",
    "\n",
    "# Library tensorflow\n",
    "import tensorflow as tf\n",
    "from tensorflow.keras.preprocessing.text import Tokenizer, tokenizer_from_json\n",
    "from tensorflow.keras.preprocessing.sequence import pad_sequences\n",
    "from tensorflow.keras.callbacks import ModelCheckpoint, EarlyStopping, ReduceLROnPlateau\n",
    "\n",
    "# Surpress warning\n",
    "import warnings\n",
    "warnings.filterwarnings(\"ignore\")\n",
    "\n",
    "# Library sklearn\n",
    "from sklearn.preprocessing import LabelEncoder\n",
    "from sklearn.model_selection import train_test_split\n",
    "\n",
    "# pickle\n",
    "import pickle"
   ]
  },
  {
   "cell_type": "markdown",
   "metadata": {},
   "source": [
    "# Dataset"
   ]
  },
  {
   "cell_type": "code",
   "execution_count": 3,
   "metadata": {
    "colab": {
     "base_uri": "https://localhost:8080/",
     "height": 206
    },
    "execution": {
     "iopub.execute_input": "2025-02-27T07:10:33.519699Z",
     "iopub.status.busy": "2025-02-27T07:10:33.519176Z",
     "iopub.status.idle": "2025-02-27T07:10:39.577409Z",
     "shell.execute_reply": "2025-02-27T07:10:39.576510Z",
     "shell.execute_reply.started": "2025-02-27T07:10:33.519674Z"
    },
    "id": "ly5YTaNrEk4G",
    "outputId": "9a0d7fcf-2d0b-4ba2-ff17-0ad1e27d4b71",
    "tags": [],
    "trusted": true
   },
   "outputs": [
    {
     "data": {
      "text/html": [
       "<div>\n",
       "<style scoped>\n",
       "    .dataframe tbody tr th:only-of-type {\n",
       "        vertical-align: middle;\n",
       "    }\n",
       "\n",
       "    .dataframe tbody tr th {\n",
       "        vertical-align: top;\n",
       "    }\n",
       "\n",
       "    .dataframe thead th {\n",
       "        text-align: right;\n",
       "    }\n",
       "</style>\n",
       "<table border=\"1\" class=\"dataframe\">\n",
       "  <thead>\n",
       "    <tr style=\"text-align: right;\">\n",
       "      <th></th>\n",
       "      <th>text</th>\n",
       "      <th>class</th>\n",
       "      <th>clean_text</th>\n",
       "    </tr>\n",
       "  </thead>\n",
       "  <tbody>\n",
       "    <tr>\n",
       "      <th>0</th>\n",
       "      <td>Ex Wife Threatening SuicideRecently I left my ...</td>\n",
       "      <td>suicide</td>\n",
       "      <td>ex wife threatening suiciderecently left wife ...</td>\n",
       "    </tr>\n",
       "    <tr>\n",
       "      <th>1</th>\n",
       "      <td>Am I weird I don't get affected by compliments...</td>\n",
       "      <td>non-suicide</td>\n",
       "      <td>weird get affected compliments coming someone ...</td>\n",
       "    </tr>\n",
       "    <tr>\n",
       "      <th>2</th>\n",
       "      <td>Finally 2020 is almost over... So I can never ...</td>\n",
       "      <td>non-suicide</td>\n",
       "      <td>finally almost never hear bad year ever swear ...</td>\n",
       "    </tr>\n",
       "    <tr>\n",
       "      <th>3</th>\n",
       "      <td>i need helpjust help me im crying so hard</td>\n",
       "      <td>suicide</td>\n",
       "      <td>need helpjust help im crying hard</td>\n",
       "    </tr>\n",
       "    <tr>\n",
       "      <th>4</th>\n",
       "      <td>I’m so lostHello, my name is Adam (16) and I’v...</td>\n",
       "      <td>suicide</td>\n",
       "      <td>losthello name adam struggling years afraid pa...</td>\n",
       "    </tr>\n",
       "  </tbody>\n",
       "</table>\n",
       "</div>"
      ],
      "text/plain": [
       "                                                text        class  \\\n",
       "0  Ex Wife Threatening SuicideRecently I left my ...      suicide   \n",
       "1  Am I weird I don't get affected by compliments...  non-suicide   \n",
       "2  Finally 2020 is almost over... So I can never ...  non-suicide   \n",
       "3          i need helpjust help me im crying so hard      suicide   \n",
       "4  I’m so lostHello, my name is Adam (16) and I’v...      suicide   \n",
       "\n",
       "                                          clean_text  \n",
       "0  ex wife threatening suiciderecently left wife ...  \n",
       "1  weird get affected compliments coming someone ...  \n",
       "2  finally almost never hear bad year ever swear ...  \n",
       "3                  need helpjust help im crying hard  \n",
       "4  losthello name adam struggling years afraid pa...  "
      ]
     },
     "execution_count": 3,
     "metadata": {},
     "output_type": "execute_result"
    }
   ],
   "source": [
    "# Read dataset\n",
    "data = pd.read_csv('/kaggle/input/suicide-detection-clean/clean_text.csv')\n",
    "data.head()"
   ]
  },
  {
   "cell_type": "markdown",
   "metadata": {},
   "source": [
    "# Encoding"
   ]
  },
  {
   "cell_type": "code",
   "execution_count": 4,
   "metadata": {
    "execution": {
     "iopub.execute_input": "2025-02-27T07:10:43.114036Z",
     "iopub.status.busy": "2025-02-27T07:10:43.113694Z",
     "iopub.status.idle": "2025-02-27T07:10:43.169036Z",
     "shell.execute_reply": "2025-02-27T07:10:43.168319Z",
     "shell.execute_reply.started": "2025-02-27T07:10:43.114013Z"
    },
    "id": "tI4zGvPDEk4H",
    "tags": [],
    "trusted": true
   },
   "outputs": [],
   "source": [
    "X = data['clean_text'].astype(str)\n",
    "y = data['class']\n",
    "\n",
    "# encode class values as integers\n",
    "# Define label encoder\n",
    "encoder = LabelEncoder()\n",
    "# fit and transform\n",
    "encoded_y = encoder.fit_transform(y)"
   ]
  },
  {
   "cell_type": "code",
   "execution_count": 5,
   "metadata": {
    "execution": {
     "iopub.execute_input": "2025-02-27T07:10:45.613184Z",
     "iopub.status.busy": "2025-02-27T07:10:45.612847Z",
     "iopub.status.idle": "2025-02-27T07:10:45.618785Z",
     "shell.execute_reply": "2025-02-27T07:10:45.617975Z",
     "shell.execute_reply.started": "2025-02-27T07:10:45.613149Z"
    },
    "trusted": true
   },
   "outputs": [
    {
     "data": {
      "text/plain": [
       "array([1, 0, 0, 1, 1, 1, 1, 1, 0, 1])"
      ]
     },
     "execution_count": 5,
     "metadata": {},
     "output_type": "execute_result"
    }
   ],
   "source": [
    "encoded_y[:10]"
   ]
  },
  {
   "cell_type": "markdown",
   "metadata": {},
   "source": [
    "# Test Train Split"
   ]
  },
  {
   "cell_type": "code",
   "execution_count": 6,
   "metadata": {
    "execution": {
     "iopub.execute_input": "2025-02-27T07:10:51.399954Z",
     "iopub.status.busy": "2025-02-27T07:10:51.399684Z",
     "iopub.status.idle": "2025-02-27T07:10:51.436479Z",
     "shell.execute_reply": "2025-02-27T07:10:51.435534Z",
     "shell.execute_reply.started": "2025-02-27T07:10:51.399935Z"
    },
    "id": "m7z7S5FdEk4H",
    "tags": [],
    "trusted": true
   },
   "outputs": [],
   "source": [
    "# Test and train split\n",
    "X_train, X_test, y_train, y_test = train_test_split(X, encoded_y, test_size=.2, random_state=42)"
   ]
  },
  {
   "cell_type": "markdown",
   "metadata": {
    "id": "YksTB-KzEk4I"
   },
   "source": [
    "# Data Preprocessing"
   ]
  },
  {
   "cell_type": "code",
   "execution_count": 7,
   "metadata": {
    "execution": {
     "iopub.execute_input": "2025-02-27T07:10:53.714283Z",
     "iopub.status.busy": "2025-02-27T07:10:53.713997Z",
     "iopub.status.idle": "2025-02-27T07:11:02.055228Z",
     "shell.execute_reply": "2025-02-27T07:11:02.054589Z",
     "shell.execute_reply.started": "2025-02-27T07:10:53.714262Z"
    },
    "id": "sIEVlUS7Ek4I",
    "tags": [],
    "trusted": true
   },
   "outputs": [],
   "source": [
    "vocab_size = 1000\n",
    "max_length = 1000\n",
    "trunc_type='post'\n",
    "padding_type='post'\n",
    "oov_tok = \"<OOV>\"\n",
    "\n",
    "# Initialize the Tokenizer class\n",
    "tokenizer = Tokenizer(num_words=vocab_size, oov_token=oov_tok)\n",
    "# Generate the word index dictionary\n",
    "\n",
    "tokenizer.fit_on_texts(X_train)\n",
    "\n",
    "# Tokenizer Save\n",
    "tokenizer_json = tokenizer.to_json()\n",
    "with open(\"tokenizer.json\", \"w\", encoding=\"utf-8\") as f:\n",
    "    f.write(tokenizer_json)"
   ]
  },
  {
   "cell_type": "code",
   "execution_count": 8,
   "metadata": {
    "execution": {
     "iopub.execute_input": "2025-02-27T07:11:03.802173Z",
     "iopub.status.busy": "2025-02-27T07:11:03.801891Z",
     "iopub.status.idle": "2025-02-27T07:11:04.187256Z",
     "shell.execute_reply": "2025-02-27T07:11:04.186609Z",
     "shell.execute_reply.started": "2025-02-27T07:11:03.802154Z"
    },
    "trusted": true
   },
   "outputs": [],
   "source": [
    "# Tokenizer read\n",
    "with open(\"tokenizer.json\", \"r\", encoding=\"utf-8\") as f:\n",
    "    json_file = f.read()\n",
    "\n",
    "tokenizer = tokenizer_from_json(json_file)"
   ]
  },
  {
   "cell_type": "code",
   "execution_count": 9,
   "metadata": {
    "execution": {
     "iopub.execute_input": "2025-02-27T07:11:08.644558Z",
     "iopub.status.busy": "2025-02-27T07:11:08.644230Z",
     "iopub.status.idle": "2025-02-27T07:11:16.451793Z",
     "shell.execute_reply": "2025-02-27T07:11:16.451113Z",
     "shell.execute_reply.started": "2025-02-27T07:11:08.644533Z"
    },
    "trusted": true
   },
   "outputs": [],
   "source": [
    "word_index = tokenizer.word_index\n",
    "# Convert the labels lists into numpy arrays\n",
    "training_labels = np.array(y_train)\n",
    "testing_labels = np.array(y_test)\n",
    "\n",
    "# Generate and pad the training sequences\n",
    "training_sequences = tokenizer.texts_to_sequences(X_train)\n",
    "training_padded = pad_sequences(training_sequences, maxlen=max_length, padding=padding_type, truncating=trunc_type)\n",
    "\n",
    "# Generate and pad the testing sequences\n",
    "testing_sequences = tokenizer.texts_to_sequences(X_test)\n",
    "testing_padded = pad_sequences(testing_sequences, maxlen=max_length, padding=padding_type, truncating=trunc_type)"
   ]
  },
  {
   "cell_type": "markdown",
   "metadata": {},
   "source": [
    "# List Resource"
   ]
  },
  {
   "cell_type": "code",
   "execution_count": 10,
   "metadata": {
    "execution": {
     "iopub.execute_input": "2025-02-27T07:11:20.373130Z",
     "iopub.status.busy": "2025-02-27T07:11:20.372858Z",
     "iopub.status.idle": "2025-02-27T07:11:21.153327Z",
     "shell.execute_reply": "2025-02-27T07:11:21.152484Z",
     "shell.execute_reply.started": "2025-02-27T07:11:20.373111Z"
    },
    "tags": [],
    "trusted": true
   },
   "outputs": [
    {
     "data": {
      "text/plain": [
       "[PhysicalDevice(name='/physical_device:GPU:0', device_type='GPU'),\n",
       " PhysicalDevice(name='/physical_device:GPU:1', device_type='GPU')]"
      ]
     },
     "execution_count": 10,
     "metadata": {},
     "output_type": "execute_result"
    }
   ],
   "source": [
    "# Lis physical devices\n",
    "devices = tf.config.experimental.list_physical_devices('GPU')\n",
    "devices"
   ]
  },
  {
   "cell_type": "code",
   "execution_count": 11,
   "metadata": {
    "execution": {
     "iopub.execute_input": "2025-02-27T07:11:22.181097Z",
     "iopub.status.busy": "2025-02-27T07:11:22.180786Z",
     "iopub.status.idle": "2025-02-27T07:11:22.491254Z",
     "shell.execute_reply": "2025-02-27T07:11:22.490532Z",
     "shell.execute_reply.started": "2025-02-27T07:11:22.181071Z"
    },
    "tags": [],
    "trusted": true
   },
   "outputs": [],
   "source": [
    "# Define the GPU strategy\n",
    "mirrored_strategy = tf.distribute.MirroredStrategy(devices=[\"/gpu:0\", \"/gpu:1\"])"
   ]
  },
  {
   "cell_type": "markdown",
   "metadata": {
    "id": "uw8lhhWEEk4J"
   },
   "source": [
    "# Bidirectional LSTM 1 Layer"
   ]
  },
  {
   "cell_type": "code",
   "execution_count": 12,
   "metadata": {
    "colab": {
     "base_uri": "https://localhost:8080/"
    },
    "execution": {
     "iopub.execute_input": "2025-02-27T07:11:27.568072Z",
     "iopub.status.busy": "2025-02-27T07:11:27.567796Z",
     "iopub.status.idle": "2025-02-27T07:11:27.635529Z",
     "shell.execute_reply": "2025-02-27T07:11:27.634881Z",
     "shell.execute_reply.started": "2025-02-27T07:11:27.568052Z"
    },
    "id": "of8FCYLUEk4J",
    "outputId": "c84ae2f6-9b35-4989-e7ae-80118688de8c",
    "tags": [],
    "trusted": true
   },
   "outputs": [
    {
     "data": {
      "text/html": [
       "<pre style=\"white-space:pre;overflow-x:auto;line-height:normal;font-family:Menlo,'DejaVu Sans Mono',consolas,'Courier New',monospace\"><span style=\"font-weight: bold\">Model: \"sequential\"</span>\n",
       "</pre>\n"
      ],
      "text/plain": [
       "\u001b[1mModel: \"sequential\"\u001b[0m\n"
      ]
     },
     "metadata": {},
     "output_type": "display_data"
    },
    {
     "data": {
      "text/html": [
       "<pre style=\"white-space:pre;overflow-x:auto;line-height:normal;font-family:Menlo,'DejaVu Sans Mono',consolas,'Courier New',monospace\">┏━━━━━━━━━━━━━━━━━━━━━━━━━━━━━━━━━━━━━━┳━━━━━━━━━━━━━━━━━━━━━━━━━━━━━┳━━━━━━━━━━━━━━━━━┓\n",
       "┃<span style=\"font-weight: bold\"> Layer (type)                         </span>┃<span style=\"font-weight: bold\"> Output Shape                </span>┃<span style=\"font-weight: bold\">         Param # </span>┃\n",
       "┡━━━━━━━━━━━━━━━━━━━━━━━━━━━━━━━━━━━━━━╇━━━━━━━━━━━━━━━━━━━━━━━━━━━━━╇━━━━━━━━━━━━━━━━━┩\n",
       "│ embedding (<span style=\"color: #0087ff; text-decoration-color: #0087ff\">Embedding</span>)                │ ?                           │     <span style=\"color: #00af00; text-decoration-color: #00af00\">0</span> (unbuilt) │\n",
       "├──────────────────────────────────────┼─────────────────────────────┼─────────────────┤\n",
       "│ bidirectional (<span style=\"color: #0087ff; text-decoration-color: #0087ff\">Bidirectional</span>)        │ ?                           │     <span style=\"color: #00af00; text-decoration-color: #00af00\">0</span> (unbuilt) │\n",
       "├──────────────────────────────────────┼─────────────────────────────┼─────────────────┤\n",
       "│ dense (<span style=\"color: #0087ff; text-decoration-color: #0087ff\">Dense</span>)                        │ ?                           │     <span style=\"color: #00af00; text-decoration-color: #00af00\">0</span> (unbuilt) │\n",
       "├──────────────────────────────────────┼─────────────────────────────┼─────────────────┤\n",
       "│ dense_1 (<span style=\"color: #0087ff; text-decoration-color: #0087ff\">Dense</span>)                      │ ?                           │     <span style=\"color: #00af00; text-decoration-color: #00af00\">0</span> (unbuilt) │\n",
       "├──────────────────────────────────────┼─────────────────────────────┼─────────────────┤\n",
       "│ dense_2 (<span style=\"color: #0087ff; text-decoration-color: #0087ff\">Dense</span>)                      │ ?                           │     <span style=\"color: #00af00; text-decoration-color: #00af00\">0</span> (unbuilt) │\n",
       "├──────────────────────────────────────┼─────────────────────────────┼─────────────────┤\n",
       "│ dense_3 (<span style=\"color: #0087ff; text-decoration-color: #0087ff\">Dense</span>)                      │ ?                           │     <span style=\"color: #00af00; text-decoration-color: #00af00\">0</span> (unbuilt) │\n",
       "└──────────────────────────────────────┴─────────────────────────────┴─────────────────┘\n",
       "</pre>\n"
      ],
      "text/plain": [
       "┏━━━━━━━━━━━━━━━━━━━━━━━━━━━━━━━━━━━━━━┳━━━━━━━━━━━━━━━━━━━━━━━━━━━━━┳━━━━━━━━━━━━━━━━━┓\n",
       "┃\u001b[1m \u001b[0m\u001b[1mLayer (type)                        \u001b[0m\u001b[1m \u001b[0m┃\u001b[1m \u001b[0m\u001b[1mOutput Shape               \u001b[0m\u001b[1m \u001b[0m┃\u001b[1m \u001b[0m\u001b[1m        Param #\u001b[0m\u001b[1m \u001b[0m┃\n",
       "┡━━━━━━━━━━━━━━━━━━━━━━━━━━━━━━━━━━━━━━╇━━━━━━━━━━━━━━━━━━━━━━━━━━━━━╇━━━━━━━━━━━━━━━━━┩\n",
       "│ embedding (\u001b[38;5;33mEmbedding\u001b[0m)                │ ?                           │     \u001b[38;5;34m0\u001b[0m (unbuilt) │\n",
       "├──────────────────────────────────────┼─────────────────────────────┼─────────────────┤\n",
       "│ bidirectional (\u001b[38;5;33mBidirectional\u001b[0m)        │ ?                           │     \u001b[38;5;34m0\u001b[0m (unbuilt) │\n",
       "├──────────────────────────────────────┼─────────────────────────────┼─────────────────┤\n",
       "│ dense (\u001b[38;5;33mDense\u001b[0m)                        │ ?                           │     \u001b[38;5;34m0\u001b[0m (unbuilt) │\n",
       "├──────────────────────────────────────┼─────────────────────────────┼─────────────────┤\n",
       "│ dense_1 (\u001b[38;5;33mDense\u001b[0m)                      │ ?                           │     \u001b[38;5;34m0\u001b[0m (unbuilt) │\n",
       "├──────────────────────────────────────┼─────────────────────────────┼─────────────────┤\n",
       "│ dense_2 (\u001b[38;5;33mDense\u001b[0m)                      │ ?                           │     \u001b[38;5;34m0\u001b[0m (unbuilt) │\n",
       "├──────────────────────────────────────┼─────────────────────────────┼─────────────────┤\n",
       "│ dense_3 (\u001b[38;5;33mDense\u001b[0m)                      │ ?                           │     \u001b[38;5;34m0\u001b[0m (unbuilt) │\n",
       "└──────────────────────────────────────┴─────────────────────────────┴─────────────────┘\n"
      ]
     },
     "metadata": {},
     "output_type": "display_data"
    },
    {
     "data": {
      "text/html": [
       "<pre style=\"white-space:pre;overflow-x:auto;line-height:normal;font-family:Menlo,'DejaVu Sans Mono',consolas,'Courier New',monospace\"><span style=\"font-weight: bold\"> Total params: </span><span style=\"color: #00af00; text-decoration-color: #00af00\">0</span> (0.00 B)\n",
       "</pre>\n"
      ],
      "text/plain": [
       "\u001b[1m Total params: \u001b[0m\u001b[38;5;34m0\u001b[0m (0.00 B)\n"
      ]
     },
     "metadata": {},
     "output_type": "display_data"
    },
    {
     "data": {
      "text/html": [
       "<pre style=\"white-space:pre;overflow-x:auto;line-height:normal;font-family:Menlo,'DejaVu Sans Mono',consolas,'Courier New',monospace\"><span style=\"font-weight: bold\"> Trainable params: </span><span style=\"color: #00af00; text-decoration-color: #00af00\">0</span> (0.00 B)\n",
       "</pre>\n"
      ],
      "text/plain": [
       "\u001b[1m Trainable params: \u001b[0m\u001b[38;5;34m0\u001b[0m (0.00 B)\n"
      ]
     },
     "metadata": {},
     "output_type": "display_data"
    },
    {
     "data": {
      "text/html": [
       "<pre style=\"white-space:pre;overflow-x:auto;line-height:normal;font-family:Menlo,'DejaVu Sans Mono',consolas,'Courier New',monospace\"><span style=\"font-weight: bold\"> Non-trainable params: </span><span style=\"color: #00af00; text-decoration-color: #00af00\">0</span> (0.00 B)\n",
       "</pre>\n"
      ],
      "text/plain": [
       "\u001b[1m Non-trainable params: \u001b[0m\u001b[38;5;34m0\u001b[0m (0.00 B)\n"
      ]
     },
     "metadata": {},
     "output_type": "display_data"
    }
   ],
   "source": [
    "embedding_dim = 16\n",
    "with mirrored_strategy.scope():\n",
    "# Initialize the model\n",
    "    model = tf.keras.Sequential([\n",
    "        tf.keras.layers.Embedding(vocab_size, embedding_dim, input_length=max_length),\n",
    "        tf.keras.layers.Bidirectional(tf.keras.layers.LSTM(64)),\n",
    "        tf.keras.layers.Dense(128, activation='relu'),\n",
    "        tf.keras.layers.Dense(128, activation='relu'),\n",
    "        tf.keras.layers.Dense(128, activation='relu'),\n",
    "        tf.keras.layers.Dense(1, activation='sigmoid')\n",
    "    ])\n",
    "\n",
    "    # Compile the model\n",
    "    model.compile(loss='binary_crossentropy',optimizer='adam',metrics=['accuracy'])\n",
    "    \n",
    "# Print the model summary\n",
    "model.summary()"
   ]
  },
  {
   "cell_type": "code",
   "execution_count": 13,
   "metadata": {
    "execution": {
     "iopub.execute_input": "2025-02-27T07:11:36.776383Z",
     "iopub.status.busy": "2025-02-27T07:11:36.776090Z",
     "iopub.status.idle": "2025-02-27T07:11:36.780916Z",
     "shell.execute_reply": "2025-02-27T07:11:36.780130Z",
     "shell.execute_reply.started": "2025-02-27T07:11:36.776362Z"
    },
    "tags": [],
    "trusted": true
   },
   "outputs": [],
   "source": [
    "# Difine the callbacks\n",
    "# Save the best model\n",
    "checkpoint_callback = ModelCheckpoint(filepath=\"Bidirectional-LSTM-1-Layers.keras\", save_best_only=True, monitor=\"val_accuracy\", mode=\"max\", verbose=1)\n",
    "\n",
    "# Early stopping\n",
    "early_stopping_callback = EarlyStopping(monitor=\"val_accuracy\", mode=\"max\", patience=5, verbose=1, restore_best_weights=True)\n",
    "\n",
    "# Reduce learning rate\n",
    "reduce_lr_callback = ReduceLROnPlateau(monitor=\"val_loss\", factor=0.1, patience=5, verbose=1, mode=\"min\", min_delta=0.0001, cooldown=0, min_lr=0)\n",
    "\n",
    "# Callbacks list\n",
    "callbacks=[checkpoint_callback, early_stopping_callback, reduce_lr_callback]"
   ]
  },
  {
   "cell_type": "code",
   "execution_count": 14,
   "metadata": {
    "execution": {
     "iopub.execute_input": "2025-02-27T07:11:46.063905Z",
     "iopub.status.busy": "2025-02-27T07:11:46.063629Z",
     "iopub.status.idle": "2025-02-27T07:30:05.871648Z",
     "shell.execute_reply": "2025-02-27T07:30:05.870744Z",
     "shell.execute_reply.started": "2025-02-27T07:11:46.063886Z"
    },
    "id": "wt_f2RcWEk4J",
    "tags": [],
    "trusted": true
   },
   "outputs": [
    {
     "name": "stdout",
     "output_type": "stream",
     "text": [
      "Epoch 1/10\n",
      "\u001b[1m1451/1451\u001b[0m \u001b[32m━━━━━━━━━━━━━━━━━━━━\u001b[0m\u001b[37m\u001b[0m \u001b[1m0s\u001b[0m 68ms/step - accuracy: 0.8809 - loss: 0.2895\n",
      "Epoch 1: val_accuracy improved from -inf to 0.91865, saving model to Bidirectional-LSTM-1-Layers.keras\n",
      "\u001b[1m1451/1451\u001b[0m \u001b[32m━━━━━━━━━━━━━━━━━━━━\u001b[0m\u001b[37m\u001b[0m \u001b[1m117s\u001b[0m 76ms/step - accuracy: 0.8810 - loss: 0.2894 - val_accuracy: 0.9186 - val_loss: 0.2153 - learning_rate: 0.0010\n",
      "Epoch 2/10\n",
      "\u001b[1m1451/1451\u001b[0m \u001b[32m━━━━━━━━━━━━━━━━━━━━\u001b[0m\u001b[37m\u001b[0m \u001b[1m0s\u001b[0m 68ms/step - accuracy: 0.9200 - loss: 0.2136\n",
      "Epoch 2: val_accuracy improved from 0.91865 to 0.91981, saving model to Bidirectional-LSTM-1-Layers.keras\n",
      "\u001b[1m1451/1451\u001b[0m \u001b[32m━━━━━━━━━━━━━━━━━━━━\u001b[0m\u001b[37m\u001b[0m \u001b[1m109s\u001b[0m 75ms/step - accuracy: 0.9200 - loss: 0.2136 - val_accuracy: 0.9198 - val_loss: 0.2107 - learning_rate: 0.0010\n",
      "Epoch 3/10\n",
      "\u001b[1m1451/1451\u001b[0m \u001b[32m━━━━━━━━━━━━━━━━━━━━\u001b[0m\u001b[37m\u001b[0m \u001b[1m0s\u001b[0m 67ms/step - accuracy: 0.9222 - loss: 0.2045\n",
      "Epoch 3: val_accuracy did not improve from 0.91981\n",
      "\u001b[1m1451/1451\u001b[0m \u001b[32m━━━━━━━━━━━━━━━━━━━━\u001b[0m\u001b[37m\u001b[0m \u001b[1m108s\u001b[0m 74ms/step - accuracy: 0.9222 - loss: 0.2045 - val_accuracy: 0.9190 - val_loss: 0.2173 - learning_rate: 0.0010\n",
      "Epoch 4/10\n",
      "\u001b[1m1451/1451\u001b[0m \u001b[32m━━━━━━━━━━━━━━━━━━━━\u001b[0m\u001b[37m\u001b[0m \u001b[1m0s\u001b[0m 68ms/step - accuracy: 0.9237 - loss: 0.2014\n",
      "Epoch 4: val_accuracy improved from 0.91981 to 0.92141, saving model to Bidirectional-LSTM-1-Layers.keras\n",
      "\u001b[1m1451/1451\u001b[0m \u001b[32m━━━━━━━━━━━━━━━━━━━━\u001b[0m\u001b[37m\u001b[0m \u001b[1m110s\u001b[0m 76ms/step - accuracy: 0.9237 - loss: 0.2014 - val_accuracy: 0.9214 - val_loss: 0.2047 - learning_rate: 0.0010\n",
      "Epoch 5/10\n",
      "\u001b[1m1451/1451\u001b[0m \u001b[32m━━━━━━━━━━━━━━━━━━━━\u001b[0m\u001b[37m\u001b[0m \u001b[1m0s\u001b[0m 68ms/step - accuracy: 0.9257 - loss: 0.1987\n",
      "Epoch 5: val_accuracy did not improve from 0.92141\n",
      "\u001b[1m1451/1451\u001b[0m \u001b[32m━━━━━━━━━━━━━━━━━━━━\u001b[0m\u001b[37m\u001b[0m \u001b[1m109s\u001b[0m 75ms/step - accuracy: 0.9257 - loss: 0.1987 - val_accuracy: 0.9193 - val_loss: 0.2096 - learning_rate: 0.0010\n",
      "Epoch 6/10\n",
      "\u001b[1m1451/1451\u001b[0m \u001b[32m━━━━━━━━━━━━━━━━━━━━\u001b[0m\u001b[37m\u001b[0m \u001b[1m0s\u001b[0m 68ms/step - accuracy: 0.9261 - loss: 0.1946\n",
      "Epoch 6: val_accuracy did not improve from 0.92141\n",
      "\u001b[1m1451/1451\u001b[0m \u001b[32m━━━━━━━━━━━━━━━━━━━━\u001b[0m\u001b[37m\u001b[0m \u001b[1m109s\u001b[0m 75ms/step - accuracy: 0.9261 - loss: 0.1946 - val_accuracy: 0.9199 - val_loss: 0.2108 - learning_rate: 0.0010\n",
      "Epoch 7/10\n",
      "\u001b[1m1451/1451\u001b[0m \u001b[32m━━━━━━━━━━━━━━━━━━━━\u001b[0m\u001b[37m\u001b[0m \u001b[1m0s\u001b[0m 67ms/step - accuracy: 0.9288 - loss: 0.1868\n",
      "Epoch 7: val_accuracy improved from 0.92141 to 0.92214, saving model to Bidirectional-LSTM-1-Layers.keras\n",
      "\u001b[1m1451/1451\u001b[0m \u001b[32m━━━━━━━━━━━━━━━━━━━━\u001b[0m\u001b[37m\u001b[0m \u001b[1m108s\u001b[0m 75ms/step - accuracy: 0.9288 - loss: 0.1868 - val_accuracy: 0.9221 - val_loss: 0.2041 - learning_rate: 0.0010\n",
      "Epoch 8/10\n",
      "\u001b[1m1451/1451\u001b[0m \u001b[32m━━━━━━━━━━━━━━━━━━━━\u001b[0m\u001b[37m\u001b[0m \u001b[1m0s\u001b[0m 67ms/step - accuracy: 0.9286 - loss: 0.1874\n",
      "Epoch 8: val_accuracy improved from 0.92214 to 0.92326, saving model to Bidirectional-LSTM-1-Layers.keras\n",
      "\u001b[1m1451/1451\u001b[0m \u001b[32m━━━━━━━━━━━━━━━━━━━━\u001b[0m\u001b[37m\u001b[0m \u001b[1m108s\u001b[0m 74ms/step - accuracy: 0.9286 - loss: 0.1874 - val_accuracy: 0.9233 - val_loss: 0.2004 - learning_rate: 0.0010\n",
      "Epoch 9/10\n",
      "\u001b[1m1451/1451\u001b[0m \u001b[32m━━━━━━━━━━━━━━━━━━━━\u001b[0m\u001b[37m\u001b[0m \u001b[1m0s\u001b[0m 68ms/step - accuracy: 0.9299 - loss: 0.1824\n",
      "Epoch 9: val_accuracy did not improve from 0.92326\n",
      "\u001b[1m1451/1451\u001b[0m \u001b[32m━━━━━━━━━━━━━━━━━━━━\u001b[0m\u001b[37m\u001b[0m \u001b[1m110s\u001b[0m 76ms/step - accuracy: 0.9299 - loss: 0.1824 - val_accuracy: 0.9232 - val_loss: 0.1982 - learning_rate: 0.0010\n",
      "Epoch 10/10\n",
      "\u001b[1m1451/1451\u001b[0m \u001b[32m━━━━━━━━━━━━━━━━━━━━\u001b[0m\u001b[37m\u001b[0m \u001b[1m0s\u001b[0m 68ms/step - accuracy: 0.9327 - loss: 0.1778\n",
      "Epoch 10: val_accuracy improved from 0.92326 to 0.92455, saving model to Bidirectional-LSTM-1-Layers.keras\n",
      "\u001b[1m1451/1451\u001b[0m \u001b[32m━━━━━━━━━━━━━━━━━━━━\u001b[0m\u001b[37m\u001b[0m \u001b[1m109s\u001b[0m 75ms/step - accuracy: 0.9327 - loss: 0.1778 - val_accuracy: 0.9246 - val_loss: 0.1986 - learning_rate: 0.0010\n",
      "Restoring model weights from the end of the best epoch: 10.\n"
     ]
    }
   ],
   "source": [
    "# Define the number of epochs\n",
    "num_epochs = 10\n",
    "\n",
    "# Train the model\n",
    "history = model.fit(training_padded, training_labels, epochs=num_epochs, validation_data=(testing_padded, testing_labels), callbacks=callbacks, batch_size=128)"
   ]
  },
  {
   "cell_type": "code",
   "execution_count": 15,
   "metadata": {
    "execution": {
     "iopub.execute_input": "2025-02-27T07:33:10.221879Z",
     "iopub.status.busy": "2025-02-27T07:33:10.221562Z",
     "iopub.status.idle": "2025-02-27T07:33:51.448680Z",
     "shell.execute_reply": "2025-02-27T07:33:51.447916Z",
     "shell.execute_reply.started": "2025-02-27T07:33:10.221857Z"
    },
    "tags": [],
    "trusted": true
   },
   "outputs": [
    {
     "name": "stdout",
     "output_type": "stream",
     "text": [
      "\u001b[1m1451/1451\u001b[0m \u001b[32m━━━━━━━━━━━━━━━━━━━━\u001b[0m\u001b[37m\u001b[0m \u001b[1m41s\u001b[0m 28ms/step - accuracy: 0.9253 - loss: 0.1972\n",
      "Test results - Loss: 0.19227153062820435 - Accuracy: 92.66201257705688%\n"
     ]
    }
   ],
   "source": [
    "# Evaluate the model\n",
    "results_base = model.evaluate(testing_padded, testing_labels)\n",
    "\n",
    "# print results\n",
    "print(f'Test results - Loss: {results_base[0]} - Accuracy: {100*results_base[1]}%')"
   ]
  },
  {
   "cell_type": "code",
   "execution_count": 16,
   "metadata": {
    "execution": {
     "iopub.execute_input": "2025-02-27T07:35:25.401709Z",
     "iopub.status.busy": "2025-02-27T07:35:25.401351Z",
     "iopub.status.idle": "2025-02-27T07:35:25.863158Z",
     "shell.execute_reply": "2025-02-27T07:35:25.862306Z",
     "shell.execute_reply.started": "2025-02-27T07:35:25.401684Z"
    },
    "id": "tscfgTUxEk4K",
    "outputId": "3c42022d-dc3a-49a8-d2e8-762226ac2682",
    "tags": [],
    "trusted": true
   },
   "outputs": [
    {
     "data": {
      "image/png": "[encoded data removed]",
      "text/plain": [
       "<Figure size 640x480 with 1 Axes>"
      ]
     },
     "metadata": {},
     "output_type": "display_data"
    },
    {
     "data": {
      "image/png": "[encoded data removed]",
      "text/plain": [
       "<Figure size 640x480 with 1 Axes>"
      ]
     },
     "metadata": {},
     "output_type": "display_data"
    }
   ],
   "source": [
    "# Plot utility\n",
    "def plot_graphs(history, string):\n",
    "  plt.plot(history.history[string])\n",
    "  plt.plot(history.history['val_'+string])\n",
    "  plt.xlabel(\"Epochs\")\n",
    "  plt.ylabel(string)\n",
    "  plt.legend([string, 'val_'+string])\n",
    "  plt.show()\n",
    "  \n",
    "# Plot the accuracy and loss\n",
    "plot_graphs(history, \"accuracy\")\n",
    "plot_graphs(history, \"loss\")"
   ]
  },
  {
   "cell_type": "markdown",
   "metadata": {},
   "source": [
    "# Testing Model"
   ]
  },
  {
   "cell_type": "code",
   "execution_count": 17,
   "metadata": {
    "execution": {
     "iopub.execute_input": "2025-02-27T07:35:28.920293Z",
     "iopub.status.busy": "2025-02-27T07:35:28.920013Z",
     "iopub.status.idle": "2025-02-27T07:35:29.115157Z",
     "shell.execute_reply": "2025-02-27T07:35:29.114520Z",
     "shell.execute_reply.started": "2025-02-27T07:35:28.920273Z"
    },
    "trusted": true
   },
   "outputs": [],
   "source": [
    "# Load all model\n",
    "BiLSTM1L_Model = tf.keras.models.load_model('Bidirectional-LSTM-1-Layers.keras')"
   ]
  },
  {
   "cell_type": "markdown",
   "metadata": {},
   "source": [
    "## Testing BiLSTM 1 Layers"
   ]
  },
  {
   "cell_type": "code",
   "execution_count": null,
   "metadata": {
    "execution": {
     "iopub.execute_input": "2025-02-27T07:52:16.586693Z",
     "iopub.status.busy": "2025-02-27T07:52:16.586382Z"
    },
    "tags": [],
    "trusted": true
   },
   "outputs": [],
   "source": [
    "twt = [ str(input()) ]\n",
    "twt = tokenizer.texts_to_sequences(twt)\n",
    "twt = pad_sequences(twt, maxlen=max_length, padding=padding_type, truncating=trunc_type)\n",
    "\n",
    "prediction = BiLSTM1L_Model.predict(twt)\n",
    "\n",
    "# Print the prediction\n",
    "if(prediction[0][0] >= 0.5):\n",
    "    print(\"Potential Suicide Post\")\n",
    "else:\n",
    "    print(\"Non Suicide Post\")"
   ]
  },
  {
   "cell_type": "code",
   "execution_count": null,
   "metadata": {
    "trusted": true
   },
   "outputs": [],
   "source": []
  }
 ],
 "metadata": {
  "accelerator": "GPU",
  "colab": {
   "provenance": []
  },
  "gpuClass": "standard",
  "kaggle": {
   "accelerator": "nvidiaTeslaT4",
   "dataSources": [
    {
     "datasetId": 1075326,
     "sourceId": 2250642,
     "sourceType": "datasetVersion"
    },
    {
     "datasetId": 3202638,
     "sourceId": 5562064,
     "sourceType": "datasetVersion"
    }
   ],
   "dockerImageVersionId": 30918,
   "isGpuEnabled": true,
   "isInternetEnabled": false,
   "language": "python",
   "sourceType": "notebook"
  },
  "kernelspec": {
   "display_name": "Python 3",
   "language": "python",
   "name": "python3"
  },
  "language_info": {
   "codemirror_mode": {
    "name": "ipython",
    "version": 3
   },
   "file_extension": ".py",
   "mimetype": "text/x-python",
   "name": "python",
   "nbconvert_exporter": "python",
   "pygments_lexer": "ipython3",
   "version": "3.10.12"
  }
 },
 "nbformat": 4,
 "nbformat_minor": 4
}
